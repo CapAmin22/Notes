{
 "cells": [
  {
   "cell_type": "code",
   "execution_count": 18,
   "id": "b91a771f",
   "metadata": {},
   "outputs": [],
   "source": [
    "# NumPy (Numerical Python) is a fundamental package for scientific computing in Python. \n",
    "# It provides support for large, multi-dimensional arrays and matrices, \n",
    "# along with a variety of functions to operate on these arrays efficiently. \n",
    "# In this explanation, I'll break down the key concepts and features of NumPy's arrays and \n",
    "# data structures with detailed examples."
   ]
  },
  {
   "cell_type": "code",
   "execution_count": 19,
   "id": "d6bd3c1d",
   "metadata": {},
   "outputs": [],
   "source": [
    "# 1) Arrays: An array is a collection of elements of the same data type, \n",
    "# arranged in a grid of dimensions. It's the fundamental building block in NumPy."
   ]
  },
  {
   "cell_type": "code",
   "execution_count": null,
   "id": "648de610",
   "metadata": {},
   "outputs": [],
   "source": [
    "# You can create NumPy arrays using the numpy.array() function or \n",
    "# various specialized functions like numpy.zeros(), numpy.ones(), and numpy.arange()."
   ]
  },
  {
   "cell_type": "code",
   "execution_count": 68,
   "id": "d7ff946b",
   "metadata": {},
   "outputs": [
    {
     "data": {
      "text/plain": [
       "array([1, 2, 3, 4, 5])"
      ]
     },
     "execution_count": 68,
     "metadata": {},
     "output_type": "execute_result"
    }
   ],
   "source": [
    "import numpy as np\n",
    "\n",
    "# Creating a 1D array\n",
    "arr_1d = np.array([1, 2, 3, 4, 5])\n",
    "# Here, a NumPy array is created from a Python list [1, 2, 3, 4, 5]. \n",
    "# The function np.array() is used to convert the list into a NumPy array. \n",
    "# The resulting array will contain the same elements as the list.\n",
    "arr_1d"
   ]
  },
  {
   "cell_type": "code",
   "execution_count": 69,
   "id": "1e17b403",
   "metadata": {},
   "outputs": [
    {
     "data": {
      "text/plain": [
       "array([[1, 2, 3],\n",
       "       [4, 5, 6]])"
      ]
     },
     "execution_count": 69,
     "metadata": {},
     "output_type": "execute_result"
    }
   ],
   "source": [
    "# Creating a 2D array (matrix)\n",
    "arr_2d = np.array([[1, 2, 3], [4, 5, 6]])\n",
    "arr_2d"
   ]
  },
  {
   "cell_type": "code",
   "execution_count": 21,
   "id": "fe9aaba7",
   "metadata": {},
   "outputs": [],
   "source": [
    "# 2) Array Attributes: NumPy arrays have several attributes that \n",
    "#    provide information about their shape, data type, and more."
   ]
  },
  {
   "cell_type": "code",
   "execution_count": 22,
   "id": "67230b4c",
   "metadata": {},
   "outputs": [
    {
     "name": "stdout",
     "output_type": "stream",
     "text": [
      "(2, 3)\n"
     ]
    }
   ],
   "source": [
    "print(arr_2d.shape)  # Shape of the array (rows, columns)"
   ]
  },
  {
   "cell_type": "code",
   "execution_count": 23,
   "id": "bb8cff9d",
   "metadata": {},
   "outputs": [
    {
     "name": "stdout",
     "output_type": "stream",
     "text": [
      "int32\n"
     ]
    }
   ],
   "source": [
    "print(arr_2d.dtype)  # Data type of array elements"
   ]
  },
  {
   "cell_type": "code",
   "execution_count": 24,
   "id": "763b853b",
   "metadata": {},
   "outputs": [],
   "source": [
    "# 3) Array Indexing and Slicing: You can access \n",
    "#    elements within an array using indexing and slicing."
   ]
  },
  {
   "cell_type": "code",
   "execution_count": 25,
   "id": "89ff135c",
   "metadata": {},
   "outputs": [
    {
     "name": "stdout",
     "output_type": "stream",
     "text": [
      "3\n"
     ]
    }
   ],
   "source": [
    "print(arr_1d[2])          # Accessing a single element"
   ]
  },
  {
   "cell_type": "code",
   "execution_count": 26,
   "id": "d5a1871a",
   "metadata": {},
   "outputs": [
    {
     "name": "stdout",
     "output_type": "stream",
     "text": [
      "6\n"
     ]
    }
   ],
   "source": [
    "print(arr_2d[1, 2])       # Accessing a specific element in a 2D array"
   ]
  },
  {
   "cell_type": "code",
   "execution_count": 27,
   "id": "6536eff0",
   "metadata": {},
   "outputs": [
    {
     "name": "stdout",
     "output_type": "stream",
     "text": [
      "[2 5]\n"
     ]
    }
   ],
   "source": [
    "print(arr_2d[:, 1])       # Slicing columns"
   ]
  },
  {
   "cell_type": "code",
   "execution_count": 28,
   "id": "e0bac405",
   "metadata": {},
   "outputs": [
    {
     "name": "stdout",
     "output_type": "stream",
     "text": [
      "[4 5]\n"
     ]
    }
   ],
   "source": [
    "print(arr_2d[1, :2])      # Slicing rows"
   ]
  },
  {
   "cell_type": "code",
   "execution_count": 29,
   "id": "4c72773d",
   "metadata": {},
   "outputs": [],
   "source": [
    "# 4) Array Operations: NumPy enables element-wise operations and \n",
    "#    broadcasting, making computations efficient."
   ]
  },
  {
   "cell_type": "code",
   "execution_count": 30,
   "id": "9aa3e3f1",
   "metadata": {},
   "outputs": [],
   "source": [
    "arr_a = np.array([1, 2, 3])\n",
    "arr_b = np.array([4, 5, 6])"
   ]
  },
  {
   "cell_type": "code",
   "execution_count": 31,
   "id": "fd782809",
   "metadata": {},
   "outputs": [
    {
     "data": {
      "text/plain": [
       "array([5, 7, 9])"
      ]
     },
     "execution_count": 31,
     "metadata": {},
     "output_type": "execute_result"
    }
   ],
   "source": [
    "# Element-wise addition\n",
    "result = arr_a + arr_b\n",
    "result"
   ]
  },
  {
   "cell_type": "code",
   "execution_count": 32,
   "id": "c7ce6e47",
   "metadata": {},
   "outputs": [
    {
     "data": {
      "text/plain": [
       "array([11, 12, 13])"
      ]
     },
     "execution_count": 32,
     "metadata": {},
     "output_type": "execute_result"
    }
   ],
   "source": [
    "# Broadcasting\n",
    "result = arr_a + 10\n",
    "result"
   ]
  },
  {
   "cell_type": "code",
   "execution_count": 33,
   "id": "4a59b743",
   "metadata": {},
   "outputs": [],
   "source": [
    "# 5) Universal Functions (ufuncs): NumPy provides a wide range of mathematical and \n",
    "#    logical functions that operate element-wise on arrays."
   ]
  },
  {
   "cell_type": "code",
   "execution_count": 59,
   "id": "182ad5b0",
   "metadata": {},
   "outputs": [
    {
     "data": {
      "text/plain": [
       "array([0.        , 1.57079633, 3.14159265])"
      ]
     },
     "execution_count": 59,
     "metadata": {},
     "output_type": "execute_result"
    }
   ],
   "source": [
    "# Create an array of angles in radians\n",
    "angles = np.array([0, np.pi/2, np.pi])\n",
    "angles\n",
    "# angles: [0.         1.57079633 3.14159265]\n",
    "# Each element in the array represents an angle in radians:\n",
    "# 0 radians (0 degrees), π/2 radians (90 degrees), and π radians (180 degrees)"
   ]
  },
  {
   "cell_type": "code",
   "execution_count": 60,
   "id": "0cc03c53",
   "metadata": {},
   "outputs": [
    {
     "data": {
      "text/plain": [
       "array([0.0000000e+00, 1.0000000e+00, 1.2246468e-16])"
      ]
     },
     "execution_count": 60,
     "metadata": {},
     "output_type": "execute_result"
    }
   ],
   "source": [
    "# Calculate the sine values of the angles\n",
    "sines = np.sin(angles)\n",
    "sines\n",
    "# sines: [0.0000000e+00 1.0000000e+00 1.2246468e-16]\n",
    "# The np.sin() function computes the sine of each angle in the 'angles' array.\n",
    "# The results are stored in the 'sines' array."
   ]
  },
  {
   "cell_type": "code",
   "execution_count": 36,
   "id": "5a7d01d1",
   "metadata": {},
   "outputs": [],
   "source": [
    "# Detailed explanation of calculations for each angle:\n",
    "# Angle 0 radians (0 degrees):\n",
    "# sin(0) = 0\n",
    "# Result: 0.0000000e+00"
   ]
  },
  {
   "cell_type": "code",
   "execution_count": 37,
   "id": "5121ba56",
   "metadata": {},
   "outputs": [],
   "source": [
    "# Angle π/2 radians (90 degrees):\n",
    "# sin(π/2) = 1\n",
    "# Result: 1.0000000e+00"
   ]
  },
  {
   "cell_type": "code",
   "execution_count": 38,
   "id": "819e1e34",
   "metadata": {},
   "outputs": [],
   "source": [
    "# Angle π radians (180 degrees):\n",
    "# sin(π) = 0\n",
    "# Result: 1.2246468e-16\n",
    "# Note: The result is not exactly 0 due to floating-point precision limitations."
   ]
  },
  {
   "cell_type": "code",
   "execution_count": 39,
   "id": "33227c12",
   "metadata": {},
   "outputs": [],
   "source": [
    "# The 'sines' array now contains the sine values corresponding to the input angles.\n",
    "# Note: The 'np.pi' constant represents the value of π (pi), which is approximately 3.14159265.\n",
    "# End of code"
   ]
  },
  {
   "cell_type": "code",
   "execution_count": 40,
   "id": "5667cad7",
   "metadata": {},
   "outputs": [],
   "source": [
    "# 6) Array Reshaping: You can reshape arrays while preserving data using the reshape function."
   ]
  },
  {
   "cell_type": "code",
   "execution_count": 57,
   "id": "73980e9b",
   "metadata": {},
   "outputs": [
    {
     "data": {
      "text/plain": [
       "array([1, 2, 3, 4, 5, 6])"
      ]
     },
     "execution_count": 57,
     "metadata": {},
     "output_type": "execute_result"
    }
   ],
   "source": [
    "# Create a NumPy array with the values [1, 2, 3, 4, 5, 6]\n",
    "flat_arr = np.array([1, 2, 3, 4, 5, 6])\n",
    "flat_arr"
   ]
  },
  {
   "cell_type": "code",
   "execution_count": 58,
   "id": "70854761",
   "metadata": {},
   "outputs": [
    {
     "data": {
      "text/plain": [
       "array([[1, 2, 3],\n",
       "       [4, 5, 6]])"
      ]
     },
     "execution_count": 58,
     "metadata": {},
     "output_type": "execute_result"
    }
   ],
   "source": [
    "# Reshape the flat_arr into a 2x3 matrix\n",
    "matrix = flat_arr.reshape(2, 3)\n",
    "matrix\n",
    "# Now 'matrix' is a 2x3 matrix:"
   ]
  },
  {
   "cell_type": "code",
   "execution_count": 45,
   "id": "80e18364",
   "metadata": {},
   "outputs": [
    {
     "name": "stdout",
     "output_type": "stream",
     "text": [
      "Original flat array: [1 2 3 4 5 6]\n"
     ]
    }
   ],
   "source": [
    "# Print the original flat array and the reshaped matrix\n",
    "print(\"Original flat array:\",(flat_arr))"
   ]
  },
  {
   "cell_type": "code",
   "execution_count": 49,
   "id": "cf742c0d",
   "metadata": {},
   "outputs": [
    {
     "name": "stdout",
     "output_type": "stream",
     "text": [
      "Reshaped matrix: [[1 2 3]\n",
      " [4 5 6]]\n"
     ]
    }
   ],
   "source": [
    "print(\"Reshaped matrix:\",(matrix))"
   ]
  },
  {
   "cell_type": "code",
   "execution_count": null,
   "id": "c04a5ac3",
   "metadata": {},
   "outputs": [],
   "source": [
    "# 7) Array Concatenation and Splitting: NumPy allows you to combine or \n",
    "#    split arrays along specified axes."
   ]
  },
  {
   "cell_type": "code",
   "execution_count": 53,
   "id": "0e47f992",
   "metadata": {},
   "outputs": [
    {
     "data": {
      "text/plain": [
       "array([1, 2, 3, 4, 5, 6])"
      ]
     },
     "execution_count": 53,
     "metadata": {},
     "output_type": "execute_result"
    }
   ],
   "source": [
    "# Create two arrays, arr1 and arr2\n",
    "arr1 = np.array([1, 2, 3])\n",
    "arr2 = np.array([4, 5, 6])\n",
    "# Concatenate the two arrays along the first axis (row-wise concatenation)\n",
    "combined = np.concatenate((arr1, arr2))\n",
    "combined"
   ]
  },
  {
   "cell_type": "code",
   "execution_count": 54,
   "id": "7b6c29da",
   "metadata": {},
   "outputs": [
    {
     "data": {
      "text/plain": [
       "array([[1, 2],\n",
       "       [3, 4]])"
      ]
     },
     "execution_count": 54,
     "metadata": {},
     "output_type": "execute_result"
    }
   ],
   "source": [
    "# Create a 2x2 matrix (2D array)\n",
    "matrix = np.array([[1, 2], [3, 4]])\n",
    "matrix"
   ]
  },
  {
   "cell_type": "code",
   "execution_count": 56,
   "id": "2e44e09f",
   "metadata": {},
   "outputs": [
    {
     "data": {
      "text/plain": [
       "(array([[1, 2]]), array([[3, 4]]))"
      ]
     },
     "execution_count": 56,
     "metadata": {},
     "output_type": "execute_result"
    }
   ],
   "source": [
    "# Split the matrix vertically into two submatrices\n",
    "# The parameter 2 in np.vsplit indicates the number of equal parts to split the matrix into\n",
    "top, bottom = np.vsplit(matrix, 2)\n",
    "top, bottom"
   ]
  },
  {
   "cell_type": "code",
   "execution_count": null,
   "id": "bba2a089",
   "metadata": {},
   "outputs": [],
   "source": [
    "# 8) Array Aggregations: You can perform aggregation operations like sum, mean, min, max, etc., \n",
    "#    on arrays."
   ]
  },
  {
   "cell_type": "code",
   "execution_count": 61,
   "id": "bdbaa9b7",
   "metadata": {},
   "outputs": [
    {
     "data": {
      "text/plain": [
       "array([[1, 2, 3],\n",
       "       [4, 5, 6]])"
      ]
     },
     "execution_count": 61,
     "metadata": {},
     "output_type": "execute_result"
    }
   ],
   "source": [
    "# Create a 2D NumPy array with two rows and three columns\n",
    "data = np.array([[1, 2, 3], [4, 5, 6]])\n",
    "data"
   ]
  },
  {
   "cell_type": "code",
   "execution_count": 62,
   "id": "c157bf56",
   "metadata": {},
   "outputs": [
    {
     "data": {
      "text/plain": [
       "21"
      ]
     },
     "execution_count": 62,
     "metadata": {},
     "output_type": "execute_result"
    }
   ],
   "source": [
    "# Calculate the sum of all elements in the 'data' array\n",
    "total_sum = np.sum(data)\n",
    "total_sum"
   ]
  },
  {
   "cell_type": "code",
   "execution_count": 63,
   "id": "08d4f88f",
   "metadata": {},
   "outputs": [
    {
     "data": {
      "text/plain": [
       "array([5, 7, 9])"
      ]
     },
     "execution_count": 63,
     "metadata": {},
     "output_type": "execute_result"
    }
   ],
   "source": [
    "# Calculate the sum of elements along the columns (axis 0) of the 'data' array\n",
    "column_sums = np.sum(data, axis=0)\n",
    "column_sums"
   ]
  },
  {
   "cell_type": "code",
   "execution_count": null,
   "id": "55dbe322",
   "metadata": {},
   "outputs": [],
   "source": [
    "# 9) Boolean Indexing and Filtering: Boolean indexing allows you to select elements based on \n",
    "#    conditions."
   ]
  },
  {
   "cell_type": "code",
   "execution_count": 64,
   "id": "30f7124f",
   "metadata": {},
   "outputs": [
    {
     "data": {
      "text/plain": [
       "array([10, 20, 30, 40, 50])"
      ]
     },
     "execution_count": 64,
     "metadata": {},
     "output_type": "execute_result"
    }
   ],
   "source": [
    "# Create an array with the given values: [10, 20, 30, 40, 50]\n",
    "data = np.array([10, 20, 30, 40, 50])\n",
    "data"
   ]
  },
  {
   "cell_type": "code",
   "execution_count": 65,
   "id": "07877db9",
   "metadata": {},
   "outputs": [
    {
     "data": {
      "text/plain": [
       "array([40, 50])"
      ]
     },
     "execution_count": 65,
     "metadata": {},
     "output_type": "execute_result"
    }
   ],
   "source": [
    "# Create a new array containing only the elements from 'data' that are greater than 30\n",
    "filtered = data[data > 30]\n",
    "filtered"
   ]
  },
  {
   "cell_type": "code",
   "execution_count": null,
   "id": "646b9574",
   "metadata": {},
   "outputs": [],
   "source": [
    "# 10) Random Number Generation: NumPy provides functions for generating random numbers from \n",
    "#     various distributions."
   ]
  },
  {
   "cell_type": "code",
   "execution_count": 66,
   "id": "d3396a1a",
   "metadata": {},
   "outputs": [
    {
     "data": {
      "text/plain": [
       "array([0.58850866, 0.30135705, 0.28881451, 0.73315577, 0.96777237])"
      ]
     },
     "execution_count": 66,
     "metadata": {},
     "output_type": "execute_result"
    }
   ],
   "source": [
    "# Generate an array of 5 random values from a uniform distribution between 0 and 1\n",
    "random_values = np.random.rand(5)  # Uniform distribution\n",
    "# This line generates an array random_values containing 5 random values sampled \n",
    "# from a uniform distribution. The np.random.rand() function generates random \n",
    "# numbers between 0 (inclusive) and 1 (exclusive), resulting in an even distribution of values.\n",
    "random_values"
   ]
  },
  {
   "cell_type": "code",
   "execution_count": 67,
   "id": "84ac75b2",
   "metadata": {},
   "outputs": [
    {
     "data": {
      "text/plain": [
       "array([ 1.18549502e+00,  5.84472053e-01,  2.34403934e-01,  4.58443390e-01,\n",
       "       -4.61962165e-01,  1.05270359e+00,  6.34098389e-02, -2.52809695e-01,\n",
       "       -2.82761442e-01,  5.06831023e-01, -9.84260993e-01, -7.97015398e-01,\n",
       "       -2.21974101e-01, -7.27829548e-01,  9.53962585e-01, -9.46847631e-02,\n",
       "       -6.41164329e-03, -1.29984196e-03,  1.19648537e+00, -1.88934955e+00,\n",
       "        2.00995979e+00,  6.81459935e-01,  4.94348239e-01, -1.06687269e-01,\n",
       "        9.48218250e-01,  7.98274359e-01,  2.29236090e-01, -9.16886347e-02,\n",
       "        1.10065650e+00,  5.28131571e-01,  1.09266905e+00,  4.05581278e-01,\n",
       "        1.24846652e-02, -1.85270942e-01, -2.06080081e-01, -2.41860874e-01,\n",
       "        1.96402552e-01,  4.04729789e-01,  1.20983873e+00, -1.61061707e-01,\n",
       "       -1.31074519e+00,  2.93620824e+00, -2.09145510e-01, -5.13314456e-01,\n",
       "        1.48946957e-01,  5.98132066e-01, -2.98039279e-01,  1.78258340e+00,\n",
       "        1.83925872e+00,  2.74766194e-01,  4.61537011e-01,  7.68714316e-01,\n",
       "       -1.80574851e-01,  6.15138712e-01, -7.13502664e-01,  1.40242363e+00,\n",
       "       -1.63931794e+00, -3.34192731e-01, -8.13850129e-02,  1.06222278e+00,\n",
       "       -5.67302508e-01, -2.89635398e-01,  4.74295654e-01,  1.34219081e+00,\n",
       "        2.65815360e+00, -6.19919969e-01, -5.48685326e-01, -9.54564463e-01,\n",
       "       -1.04478159e+00,  2.23986976e-01,  1.80119010e-01,  1.35461357e-01,\n",
       "        1.62120528e+00,  3.37907523e-01, -1.96212473e-01,  8.61302542e-01,\n",
       "        2.60329205e-01, -7.64841070e-01,  9.16823394e-01, -8.83939482e-01,\n",
       "        9.25104686e-01, -1.74566745e-02,  3.24036934e-01, -5.54691429e-01,\n",
       "       -3.68725094e-01,  6.04753337e-01, -1.29177350e+00, -4.30875638e-01,\n",
       "        1.23385683e+00, -4.01595967e-01,  2.35634582e+00, -3.66733440e-01,\n",
       "        8.04321725e-01,  1.83664412e+00, -2.17576775e-01, -4.47393707e-01,\n",
       "       -6.78386757e-01, -8.71504127e-01,  7.23037475e-01, -9.34642008e-01])"
      ]
     },
     "execution_count": 67,
     "metadata": {},
     "output_type": "execute_result"
    }
   ],
   "source": [
    "# Generate an array of 100 random values from a Gaussian (normal) distribution\n",
    "# with a mean (loc) of 0 and a standard deviation (scale) of 1\n",
    "gaussian_values = np.random.normal(0, 1, 100)  # Gaussian distribution\n",
    "# This line generates an array gaussian_values containing 100 random values sampled \n",
    "# from a Gaussian (normal) distribution. The np.random.normal() function generates \n",
    "# random numbers following a Gaussian distribution with the specified \n",
    "# mean (average) of 0 and standard deviation (a measure of how spread out the values are) \n",
    "# of 1. This distribution is often called the standard normal distribution.\n",
    "gaussian_values"
   ]
  }
 ],
 "metadata": {
  "kernelspec": {
   "display_name": "Python 3 (ipykernel)",
   "language": "python",
   "name": "python3"
  },
  "language_info": {
   "codemirror_mode": {
    "name": "ipython",
    "version": 3
   },
   "file_extension": ".py",
   "mimetype": "text/x-python",
   "name": "python",
   "nbconvert_exporter": "python",
   "pygments_lexer": "ipython3",
   "version": "3.11.2"
  }
 },
 "nbformat": 4,
 "nbformat_minor": 5
}
