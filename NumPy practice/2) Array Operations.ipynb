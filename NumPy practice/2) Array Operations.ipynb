{
 "cells": [
  {
   "cell_type": "code",
   "execution_count": null,
   "id": "cccf9b83",
   "metadata": {},
   "outputs": [],
   "source": [
    "# 1) Element-wise Operations: NumPy allows performing element-wise operations on arrays, \n",
    "#             applying an operation to each corresponding element in two or more arrays."
   ]
  },
  {
   "cell_type": "code",
   "execution_count": null,
   "id": "62e3b163",
   "metadata": {},
   "outputs": [],
   "source": [
    "import numpy as np  # Import the NumPy library for numerical operations"
   ]
  },
  {
   "cell_type": "code",
   "execution_count": 8,
   "id": "d6f7e38b",
   "metadata": {},
   "outputs": [
    {
     "data": {
      "text/plain": [
       "array([5, 7, 9])"
      ]
     },
     "execution_count": 8,
     "metadata": {},
     "output_type": "execute_result"
    }
   ],
   "source": [
    "# Create NumPy arrays 'a' and 'b' with the given values\n",
    "a = np.array([1, 2, 3])  # 'a' is [1, 2, 3]\n",
    "b = np.array([4, 5, 6])  # 'b' is [4, 5, 6]\n",
    "\n",
    "# Element-wise addition: Add corresponding elements of arrays 'a' and 'b'\n",
    "add_result = a + b  # 'add_result' is [5, 7, 9]\n",
    "# Explanation: Each element of 'add_result' is the sum of the corresponding elements of 'a' and 'b'.\n",
    "# 1 + 4 = 5, 2 + 5 = 7, 3 + 6 = 9\n",
    "add_result"
   ]
  },
  {
   "cell_type": "code",
   "execution_count": 9,
   "id": "8276d1e8",
   "metadata": {},
   "outputs": [
    {
     "data": {
      "text/plain": [
       "array([ 4, 10, 18])"
      ]
     },
     "execution_count": 9,
     "metadata": {},
     "output_type": "execute_result"
    }
   ],
   "source": [
    "# Element-wise multiplication: Multiply corresponding elements of arrays 'a' and 'b'\n",
    "multiply_result = a * b  # 'multiply_result' is [4, 10, 18]\n",
    "# Explanation: Each element of 'multiply_result' is the product of \n",
    "# the corresponding elements of 'a' and 'b'.\n",
    "# 1 * 4 = 4, 2 * 5 = 10, 3 * 6 = 18\n",
    "multiply_result"
   ]
  },
  {
   "cell_type": "code",
   "execution_count": null,
   "id": "2c2b5c05",
   "metadata": {},
   "outputs": [],
   "source": [
    "# 2) Broadcasting: NumPy supports broadcasting, which allows performing operations on \n",
    "#                  arrays of different shapes by automatically expanding dimensions."
   ]
  },
  {
   "cell_type": "code",
   "execution_count": 10,
   "id": "b6adea9f",
   "metadata": {},
   "outputs": [
    {
     "data": {
      "text/plain": [
       "array([[1, 2, 3],\n",
       "       [4, 5, 6]])"
      ]
     },
     "execution_count": 10,
     "metadata": {},
     "output_type": "execute_result"
    }
   ],
   "source": [
    "# Create a 2-dimensional numpy array 'a' with shape (2, 3)\n",
    "a = np.array([[1, 2, 3], [4, 5, 6]])\n",
    "a"
   ]
  },
  {
   "cell_type": "code",
   "execution_count": 11,
   "id": "fe17f389",
   "metadata": {},
   "outputs": [
    {
     "data": {
      "text/plain": [
       "array([10, 20, 30])"
      ]
     },
     "execution_count": 11,
     "metadata": {},
     "output_type": "execute_result"
    }
   ],
   "source": [
    "# Create a 1-dimensional numpy array 'b' with values [10, 20, 30]\n",
    "b = np.array([10, 20, 30])\n",
    "b"
   ]
  },
  {
   "cell_type": "code",
   "execution_count": 12,
   "id": "22b2a0b5",
   "metadata": {},
   "outputs": [
    {
     "data": {
      "text/plain": [
       "array([[11, 22, 33],\n",
       "       [14, 25, 36]])"
      ]
     },
     "execution_count": 12,
     "metadata": {},
     "output_type": "execute_result"
    }
   ],
   "source": [
    "# Broadcasting: Add array 'b' to each row of array 'a'\n",
    "# Since 'a' has shape (2, 3) and 'b' has shape (3,), numpy automatically broadcasts 'b' to \n",
    "# match the shape of 'a'\n",
    "# Broadcasting allows numpy to perform element-wise operations even when arrays \n",
    "# have different shapes\n",
    "result = a + b  # The result will be a new numpy array with the same shape as 'a' \n",
    "# where each element is the sum of the corresponding elements in 'a' and 'b'\n",
    "result\n",
    "# The resulting array 'result' will be:\n",
    "# [[1 + 10, 2 + 20, 3 + 30],\n",
    "#  [4 + 10, 5 + 20, 6 + 30]]\n",
    "# which simplifies to:\n",
    "# [[11, 22, 33],\n",
    "#  [14, 25, 36]]"
   ]
  },
  {
   "cell_type": "code",
   "execution_count": null,
   "id": "4ebe9831",
   "metadata": {},
   "outputs": [],
   "source": [
    "# 3) Universal Functions (ufuncs): NumPy provides a wide range of built-in mathematical functions \n",
    "#                                  (ufuncs) that can be applied element-wise to arrays."
   ]
  },
  {
   "cell_type": "code",
   "execution_count": 13,
   "id": "7e062836",
   "metadata": {},
   "outputs": [
    {
     "data": {
      "text/plain": [
       "array([1, 2, 3, 4])"
      ]
     },
     "execution_count": 13,
     "metadata": {},
     "output_type": "execute_result"
    }
   ],
   "source": [
    "# Create a NumPy array containing the values [1, 2, 3, 4].\n",
    "arr = np.array([1, 2, 3, 4])\n",
    "arr"
   ]
  },
  {
   "cell_type": "code",
   "execution_count": 14,
   "id": "4209f44d",
   "metadata": {},
   "outputs": [
    {
     "data": {
      "text/plain": [
       "array([1.        , 1.41421356, 1.73205081, 2.        ])"
      ]
     },
     "execution_count": 14,
     "metadata": {},
     "output_type": "execute_result"
    }
   ],
   "source": [
    "# Calculate the square root of each element in the 'arr' array.\n",
    "# The np.sqrt() function is a universal function (ufunc) that operates element-wise on arrays.\n",
    "# It returns a new array where each element is the square root of the corresponding element in 'arr'.\n",
    "sqrt_arr = np.sqrt(arr)  # Result: [1.0, 1.414, 1.732, 2.0]\n",
    "sqrt_arr"
   ]
  },
  {
   "cell_type": "code",
   "execution_count": 15,
   "id": "29b379d6",
   "metadata": {},
   "outputs": [
    {
     "data": {
      "text/plain": [
       "array([ 2.71828183,  7.3890561 , 20.08553692, 54.59815003])"
      ]
     },
     "execution_count": 15,
     "metadata": {},
     "output_type": "execute_result"
    }
   ],
   "source": [
    "# Calculate the exponential function e^x for each element in the 'arr' array.\n",
    "# The np.exp() function is another universal function (ufunc) that calculates the exponential for each element.\n",
    "# It returns a new array where each element is e raised to the power of the corresponding element in 'arr'.\n",
    "exp_arr = np.exp(arr)  # Result: [2.718, 7.389, 20.085, 54.598]\n",
    "exp_arr"
   ]
  },
  {
   "cell_type": "code",
   "execution_count": null,
   "id": "ea06e762",
   "metadata": {},
   "outputs": [],
   "source": [
    "# 4) Aggregation Functions: NumPy offers aggregation functions like numpy.sum(), \n",
    "#         numpy.mean(), numpy.max(), etc., to compute summary statistics of arrays."
   ]
  },
  {
   "cell_type": "code",
   "execution_count": 16,
   "id": "b89c6ee9",
   "metadata": {},
   "outputs": [
    {
     "data": {
      "text/plain": [
       "array([[1, 2, 3],\n",
       "       [4, 5, 6]])"
      ]
     },
     "execution_count": 16,
     "metadata": {},
     "output_type": "execute_result"
    }
   ],
   "source": [
    "# Create a 2D NumPy array (matrix) with 2 rows and 3 columns\n",
    "arr = np.array([[1, 2, 3], [4, 5, 6]])\n",
    "arr"
   ]
  },
  {
   "cell_type": "code",
   "execution_count": 17,
   "id": "979a751d",
   "metadata": {},
   "outputs": [
    {
     "data": {
      "text/plain": [
       "21"
      ]
     },
     "execution_count": 17,
     "metadata": {},
     "output_type": "execute_result"
    }
   ],
   "source": [
    "# Aggregation functions Calculate the sum of all elements in the entire array\n",
    "sum_all = np.sum(arr)  # Result: 1 + 2 + 3 + 4 + 5 + 6 = 21\n",
    "sum_all"
   ]
  },
  {
   "cell_type": "code",
   "execution_count": 18,
   "id": "85cfd201",
   "metadata": {},
   "outputs": [
    {
     "data": {
      "text/plain": [
       "array([2.5, 3.5, 4.5])"
      ]
     },
     "execution_count": 18,
     "metadata": {},
     "output_type": "execute_result"
    }
   ],
   "source": [
    "# Calculate the mean (average) of elements along axis 0 (columns)\n",
    "# Axis 0 represents the vertical columns in a 2D array\n",
    "mean_axis0 = np.mean(arr, axis=0)\n",
    "# For axis 0: (1 + 4) / 2 = 2.5, (2 + 5) / 2 = 3.5, (3 + 6) / 2 = 4.5\n",
    "# Result: [2.5, 3.5, 4.5]\n",
    "mean_axis0"
   ]
  },
  {
   "cell_type": "code",
   "execution_count": 19,
   "id": "e92955c0",
   "metadata": {},
   "outputs": [
    {
     "data": {
      "text/plain": [
       "array([3, 6])"
      ]
     },
     "execution_count": 19,
     "metadata": {},
     "output_type": "execute_result"
    }
   ],
   "source": [
    "# Calculate the maximum element along axis 1 (rows)\n",
    "# Axis 1 represents the horizontal rows in a 2D array\n",
    "max_axis1 = np.max(arr, axis=1)\n",
    "# For axis 1: Maximum of [1, 2, 3] = 3, Maximum of [4, 5, 6] = 6\n",
    "# Result: [3, 6]\n",
    "max_axis1"
   ]
  },
  {
   "cell_type": "code",
   "execution_count": null,
   "id": "56098c84",
   "metadata": {},
   "outputs": [],
   "source": [
    "# 5) Array Manipulation: NumPy provides functions to reshape, concatenate, and split arrays."
   ]
  },
  {
   "cell_type": "code",
   "execution_count": 35,
   "id": "4e34b599",
   "metadata": {},
   "outputs": [
    {
     "data": {
      "text/plain": [
       "array([[1, 2, 3],\n",
       "       [4, 5, 6]])"
      ]
     },
     "execution_count": 35,
     "metadata": {},
     "output_type": "execute_result"
    }
   ],
   "source": [
    "# Create a 2x3 numpy array\n",
    "arr = np.array([[1, 2, 3], [4, 5, 6]])\n",
    "arr"
   ]
  },
  {
   "cell_type": "code",
   "execution_count": 36,
   "id": "0ab7852d",
   "metadata": {},
   "outputs": [
    {
     "data": {
      "text/plain": [
       "array([[1, 2],\n",
       "       [3, 4],\n",
       "       [5, 6]])"
      ]
     },
     "execution_count": 36,
     "metadata": {},
     "output_type": "execute_result"
    }
   ],
   "source": [
    "# Reshape the array to a 3x2 array\n",
    "reshaped = arr.reshape(3, 2)  # reshaped: [[1, 2], [3, 4], [5, 6]]\n",
    "reshaped"
   ]
  },
  {
   "cell_type": "code",
   "execution_count": null,
   "id": "f6b82c65",
   "metadata": {},
   "outputs": [],
   "source": []
  },
  {
   "cell_type": "code",
   "execution_count": null,
   "id": "6e754635",
   "metadata": {},
   "outputs": [],
   "source": []
  },
  {
   "cell_type": "code",
   "execution_count": null,
   "id": "75be279a",
   "metadata": {},
   "outputs": [],
   "source": []
  }
 ],
 "metadata": {
  "kernelspec": {
   "display_name": "Python 3 (ipykernel)",
   "language": "python",
   "name": "python3"
  },
  "language_info": {
   "codemirror_mode": {
    "name": "ipython",
    "version": 3
   },
   "file_extension": ".py",
   "mimetype": "text/x-python",
   "name": "python",
   "nbconvert_exporter": "python",
   "pygments_lexer": "ipython3",
   "version": "3.11.2"
  }
 },
 "nbformat": 4,
 "nbformat_minor": 5
}
