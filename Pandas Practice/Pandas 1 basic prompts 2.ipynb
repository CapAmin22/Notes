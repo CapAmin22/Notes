{
 "cells": [
  {
   "cell_type": "code",
   "execution_count": 112,
   "id": "7d66368b",
   "metadata": {},
   "outputs": [
    {
     "data": {
      "text/html": [
       "<div>\n",
       "<style scoped>\n",
       "    .dataframe tbody tr th:only-of-type {\n",
       "        vertical-align: middle;\n",
       "    }\n",
       "\n",
       "    .dataframe tbody tr th {\n",
       "        vertical-align: top;\n",
       "    }\n",
       "\n",
       "    .dataframe thead th {\n",
       "        text-align: right;\n",
       "    }\n",
       "</style>\n",
       "<table border=\"1\" class=\"dataframe\">\n",
       "  <thead>\n",
       "    <tr style=\"text-align: right;\">\n",
       "      <th></th>\n",
       "      <th>movie_id</th>\n",
       "      <th>title</th>\n",
       "      <th>industry</th>\n",
       "      <th>release_year</th>\n",
       "      <th>imdb_rating</th>\n",
       "      <th>studio</th>\n",
       "      <th>language_id</th>\n",
       "      <th>budget</th>\n",
       "      <th>revenue</th>\n",
       "      <th>unit</th>\n",
       "      <th>currency</th>\n",
       "    </tr>\n",
       "  </thead>\n",
       "  <tbody>\n",
       "    <tr>\n",
       "      <th>0</th>\n",
       "      <td>101</td>\n",
       "      <td>K.G.F: Chapter 2</td>\n",
       "      <td>Bollywood</td>\n",
       "      <td>2022</td>\n",
       "      <td>8.4</td>\n",
       "      <td>Hombale Films</td>\n",
       "      <td>3</td>\n",
       "      <td>1</td>\n",
       "      <td>12.5</td>\n",
       "      <td>Billions</td>\n",
       "      <td>INR</td>\n",
       "    </tr>\n",
       "    <tr>\n",
       "      <th>1</th>\n",
       "      <td>102</td>\n",
       "      <td>Doctor Strange in the Multiverse of Madness</td>\n",
       "      <td>Hollywood</td>\n",
       "      <td>2022</td>\n",
       "      <td>7.0</td>\n",
       "      <td>Marvel Studios</td>\n",
       "      <td>5</td>\n",
       "      <td>200</td>\n",
       "      <td>954.8</td>\n",
       "      <td>Millions</td>\n",
       "      <td>USD</td>\n",
       "    </tr>\n",
       "  </tbody>\n",
       "</table>\n",
       "</div>"
      ],
      "text/plain": [
       "   movie_id                                        title   industry   \n",
       "0       101                             K.G.F: Chapter 2  Bollywood  \\\n",
       "1       102  Doctor Strange in the Multiverse of Madness  Hollywood   \n",
       "\n",
       "   release_year  imdb_rating          studio  language_id budget revenue   \n",
       "0          2022          8.4   Hombale Films            3      1    12.5  \\\n",
       "1          2022          7.0  Marvel Studios            5    200   954.8   \n",
       "\n",
       "       unit currency  \n",
       "0  Billions      INR  \n",
       "1  Millions      USD  "
      ]
     },
     "execution_count": 112,
     "metadata": {},
     "output_type": "execute_result"
    }
   ],
   "source": [
    "import pandas as pd\n",
    "Movies = pd.read_excel(\"C:\\\\Users\\\\HP\\\\Pandas Practice\\\\Moives DB\\\\movies_db_excel_Basics.xlsx\")\n",
    "Movies.head(2)"
   ]
  },
  {
   "cell_type": "code",
   "execution_count": 6,
   "id": "0a2828b2",
   "metadata": {},
   "outputs": [
    {
     "data": {
      "text/plain": [
       "(39, 11)"
      ]
     },
     "execution_count": 6,
     "metadata": {},
     "output_type": "execute_result"
    }
   ],
   "source": [
    "Movies.shape"
   ]
  },
  {
   "cell_type": "code",
   "execution_count": 11,
   "id": "4105fcb8",
   "metadata": {},
   "outputs": [
    {
     "data": {
      "text/plain": [
       "11"
      ]
     },
     "execution_count": 11,
     "metadata": {},
     "output_type": "execute_result"
    }
   ],
   "source": [
    "rows, columns = Movies.shape\n",
    "columns"
   ]
  },
  {
   "cell_type": "code",
   "execution_count": 12,
   "id": "e87bae68",
   "metadata": {},
   "outputs": [
    {
     "data": {
      "text/plain": [
       "39"
      ]
     },
     "execution_count": 12,
     "metadata": {},
     "output_type": "execute_result"
    }
   ],
   "source": [
    "rows, columns = Movies.shape\n",
    "rows"
   ]
  },
  {
   "cell_type": "code",
   "execution_count": 14,
   "id": "cb393ea8",
   "metadata": {},
   "outputs": [
    {
     "data": {
      "text/html": [
       "<div>\n",
       "<style scoped>\n",
       "    .dataframe tbody tr th:only-of-type {\n",
       "        vertical-align: middle;\n",
       "    }\n",
       "\n",
       "    .dataframe tbody tr th {\n",
       "        vertical-align: top;\n",
       "    }\n",
       "\n",
       "    .dataframe thead th {\n",
       "        text-align: right;\n",
       "    }\n",
       "</style>\n",
       "<table border=\"1\" class=\"dataframe\">\n",
       "  <thead>\n",
       "    <tr style=\"text-align: right;\">\n",
       "      <th></th>\n",
       "      <th>movie_id</th>\n",
       "      <th>title</th>\n",
       "      <th>industry</th>\n",
       "      <th>release_year</th>\n",
       "      <th>imdb_rating</th>\n",
       "      <th>studio</th>\n",
       "      <th>language_id</th>\n",
       "      <th>budget</th>\n",
       "      <th>revenue</th>\n",
       "      <th>unit</th>\n",
       "      <th>currency</th>\n",
       "    </tr>\n",
       "  </thead>\n",
       "  <tbody>\n",
       "    <tr>\n",
       "      <th>0</th>\n",
       "      <td>101</td>\n",
       "      <td>K.G.F: Chapter 2</td>\n",
       "      <td>Bollywood</td>\n",
       "      <td>2022</td>\n",
       "      <td>8.4</td>\n",
       "      <td>Hombale Films</td>\n",
       "      <td>3</td>\n",
       "      <td>1</td>\n",
       "      <td>12.5</td>\n",
       "      <td>Billions</td>\n",
       "      <td>INR</td>\n",
       "    </tr>\n",
       "    <tr>\n",
       "      <th>1</th>\n",
       "      <td>102</td>\n",
       "      <td>Doctor Strange in the Multiverse of Madness</td>\n",
       "      <td>Hollywood</td>\n",
       "      <td>2022</td>\n",
       "      <td>7.0</td>\n",
       "      <td>Marvel Studios</td>\n",
       "      <td>5</td>\n",
       "      <td>200</td>\n",
       "      <td>954.8</td>\n",
       "      <td>Millions</td>\n",
       "      <td>USD</td>\n",
       "    </tr>\n",
       "  </tbody>\n",
       "</table>\n",
       "</div>"
      ],
      "text/plain": [
       "   movie_id                                        title   industry   \n",
       "0       101                             K.G.F: Chapter 2  Bollywood  \\\n",
       "1       102  Doctor Strange in the Multiverse of Madness  Hollywood   \n",
       "\n",
       "   release_year  imdb_rating          studio  language_id budget revenue   \n",
       "0          2022          8.4   Hombale Films            3      1    12.5  \\\n",
       "1          2022          7.0  Marvel Studios            5    200   954.8   \n",
       "\n",
       "       unit currency  \n",
       "0  Billions      INR  \n",
       "1  Millions      USD  "
      ]
     },
     "execution_count": 14,
     "metadata": {},
     "output_type": "execute_result"
    }
   ],
   "source": [
    "Movies.head(2)"
   ]
  },
  {
   "cell_type": "code",
   "execution_count": 15,
   "id": "68d2b745",
   "metadata": {},
   "outputs": [
    {
     "data": {
      "text/html": [
       "<div>\n",
       "<style scoped>\n",
       "    .dataframe tbody tr th:only-of-type {\n",
       "        vertical-align: middle;\n",
       "    }\n",
       "\n",
       "    .dataframe tbody tr th {\n",
       "        vertical-align: top;\n",
       "    }\n",
       "\n",
       "    .dataframe thead th {\n",
       "        text-align: right;\n",
       "    }\n",
       "</style>\n",
       "<table border=\"1\" class=\"dataframe\">\n",
       "  <thead>\n",
       "    <tr style=\"text-align: right;\">\n",
       "      <th></th>\n",
       "      <th>movie_id</th>\n",
       "      <th>title</th>\n",
       "      <th>industry</th>\n",
       "      <th>release_year</th>\n",
       "      <th>imdb_rating</th>\n",
       "      <th>studio</th>\n",
       "      <th>language_id</th>\n",
       "      <th>budget</th>\n",
       "      <th>revenue</th>\n",
       "      <th>unit</th>\n",
       "      <th>currency</th>\n",
       "    </tr>\n",
       "  </thead>\n",
       "  <tbody>\n",
       "    <tr>\n",
       "      <th>37</th>\n",
       "      <td>139</td>\n",
       "      <td>Race 3</td>\n",
       "      <td>Bollywood</td>\n",
       "      <td>2018</td>\n",
       "      <td>1.9</td>\n",
       "      <td>Salman Khan Films</td>\n",
       "      <td>1</td>\n",
       "      <td>1.8</td>\n",
       "      <td>3.1</td>\n",
       "      <td>Billions</td>\n",
       "      <td>INR</td>\n",
       "    </tr>\n",
       "    <tr>\n",
       "      <th>38</th>\n",
       "      <td>140</td>\n",
       "      <td>Shershaah</td>\n",
       "      <td>Bollywood</td>\n",
       "      <td>2021</td>\n",
       "      <td>8.4</td>\n",
       "      <td>Dharma Productions</td>\n",
       "      <td>1</td>\n",
       "      <td>500</td>\n",
       "      <td>950</td>\n",
       "      <td>Millions</td>\n",
       "      <td>INR</td>\n",
       "    </tr>\n",
       "  </tbody>\n",
       "</table>\n",
       "</div>"
      ],
      "text/plain": [
       "    movie_id      title   industry  release_year  imdb_rating   \n",
       "37       139     Race 3  Bollywood          2018          1.9  \\\n",
       "38       140  Shershaah  Bollywood          2021          8.4   \n",
       "\n",
       "                studio  language_id budget revenue      unit currency  \n",
       "37   Salman Khan Films            1    1.8     3.1  Billions      INR  \n",
       "38  Dharma Productions            1    500     950  Millions      INR  "
      ]
     },
     "execution_count": 15,
     "metadata": {},
     "output_type": "execute_result"
    }
   ],
   "source": [
    "Movies.tail(2)"
   ]
  },
  {
   "cell_type": "code",
   "execution_count": 16,
   "id": "5c83ac93",
   "metadata": {},
   "outputs": [
    {
     "data": {
      "text/plain": [
       "Index(['movie_id', 'title', 'industry', 'release_year', 'imdb_rating',\n",
       "       'studio', 'language_id', 'budget', 'revenue', 'unit', 'currency'],\n",
       "      dtype='object')"
      ]
     },
     "execution_count": 16,
     "metadata": {},
     "output_type": "execute_result"
    }
   ],
   "source": [
    "Movies.columns"
   ]
  },
  {
   "cell_type": "code",
   "execution_count": 29,
   "id": "57aa2af7",
   "metadata": {},
   "outputs": [
    {
     "data": {
      "text/plain": [
       "0                 Hombale Films\n",
       "1                Marvel Studios\n",
       "2                Marvel Studios\n",
       "3                Marvel Studios\n",
       "4                Marvel Studios\n",
       "5              United Producers\n",
       "6                Yash Raj Films\n",
       "7            Vinod Chopra Films\n",
       "8            Dharma Productions\n",
       "9                 Not Available\n",
       "10    Castle Rock Entertainment\n",
       "11        Warner Bros. Pictures\n",
       "12        Warner Bros. Pictures\n",
       "13            Columbia Pictures\n",
       "14           Universal Pictures\n",
       "15           Paramount Pictures\n",
       "16                Liberty Films\n",
       "17             20th Century Fox\n",
       "18           Paramount Pictures\n",
       "19                      Syncopy\n",
       "20           Universal Pictures\n",
       "21           Universal Pictures\n",
       "22                Not Available\n",
       "23               Marvel Studios\n",
       "24               Marvel Studios\n",
       "25    Government of West Bengal\n",
       "26                Not Available\n",
       "27     Vinod Chopra Productions\n",
       "28           Vinod Chopra Films\n",
       "29           Vinod Chopra Films\n",
       "30          Mythri Movie Makers\n",
       "31            DVV Entertainment\n",
       "32             Arka Media Works\n",
       "33                  Zee Studios\n",
       "34            Salman Khan Films\n",
       "35               Marvel Studios\n",
       "36               Marvel Studios\n",
       "37            Salman Khan Films\n",
       "38           Dharma Productions\n",
       "Name: studio, dtype: object"
      ]
     },
     "execution_count": 29,
     "metadata": {},
     "output_type": "execute_result"
    }
   ],
   "source": [
    "Movies['studio']"
   ]
  },
  {
   "cell_type": "code",
   "execution_count": 33,
   "id": "1837734a",
   "metadata": {},
   "outputs": [
    {
     "data": {
      "text/plain": [
       "pandas.core.series.Series"
      ]
     },
     "execution_count": 33,
     "metadata": {},
     "output_type": "execute_result"
    }
   ],
   "source": [
    "type(Movies['budget'])"
   ]
  },
  {
   "cell_type": "code",
   "execution_count": 7,
   "id": "f371e398",
   "metadata": {},
   "outputs": [
    {
     "data": {
      "text/plain": [
       "7.947368421052632"
      ]
     },
     "execution_count": 7,
     "metadata": {},
     "output_type": "execute_result"
    }
   ],
   "source": [
    "Movies['imdb_rating'].mean()"
   ]
  },
  {
   "cell_type": "code",
   "execution_count": 4,
   "id": "4e0e0f5b",
   "metadata": {},
   "outputs": [
    {
     "data": {
      "text/plain": [
       "8.1"
      ]
     },
     "execution_count": 4,
     "metadata": {},
     "output_type": "execute_result"
    }
   ],
   "source": [
    "Movies['imdb_rating'].median()"
   ]
  },
  {
   "cell_type": "code",
   "execution_count": 5,
   "id": "15747b8f",
   "metadata": {},
   "outputs": [
    {
     "data": {
      "text/plain": [
       "0    8.4\n",
       "Name: imdb_rating, dtype: float64"
      ]
     },
     "execution_count": 5,
     "metadata": {},
     "output_type": "execute_result"
    }
   ],
   "source": [
    "Movies['imdb_rating'].mode()"
   ]
  },
  {
   "cell_type": "code",
   "execution_count": 35,
   "id": "f019c35a",
   "metadata": {},
   "outputs": [
    {
     "data": {
      "text/html": [
       "<div>\n",
       "<style scoped>\n",
       "    .dataframe tbody tr th:only-of-type {\n",
       "        vertical-align: middle;\n",
       "    }\n",
       "\n",
       "    .dataframe tbody tr th {\n",
       "        vertical-align: top;\n",
       "    }\n",
       "\n",
       "    .dataframe thead th {\n",
       "        text-align: right;\n",
       "    }\n",
       "</style>\n",
       "<table border=\"1\" class=\"dataframe\">\n",
       "  <thead>\n",
       "    <tr style=\"text-align: right;\">\n",
       "      <th></th>\n",
       "      <th>movie_id</th>\n",
       "      <th>release_year</th>\n",
       "      <th>imdb_rating</th>\n",
       "      <th>language_id</th>\n",
       "    </tr>\n",
       "  </thead>\n",
       "  <tbody>\n",
       "    <tr>\n",
       "      <th>count</th>\n",
       "      <td>39.000000</td>\n",
       "      <td>39.000000</td>\n",
       "      <td>38.000000</td>\n",
       "      <td>39.000000</td>\n",
       "    </tr>\n",
       "    <tr>\n",
       "      <th>mean</th>\n",
       "      <td>120.666667</td>\n",
       "      <td>2006.282051</td>\n",
       "      <td>7.947368</td>\n",
       "      <td>3.435897</td>\n",
       "    </tr>\n",
       "    <tr>\n",
       "      <th>std</th>\n",
       "      <td>11.795033</td>\n",
       "      <td>17.945750</td>\n",
       "      <td>1.180869</td>\n",
       "      <td>1.970772</td>\n",
       "    </tr>\n",
       "    <tr>\n",
       "      <th>min</th>\n",
       "      <td>101.000000</td>\n",
       "      <td>1946.000000</td>\n",
       "      <td>1.900000</td>\n",
       "      <td>1.000000</td>\n",
       "    </tr>\n",
       "    <tr>\n",
       "      <th>25%</th>\n",
       "      <td>110.500000</td>\n",
       "      <td>2000.500000</td>\n",
       "      <td>7.825000</td>\n",
       "      <td>1.000000</td>\n",
       "    </tr>\n",
       "    <tr>\n",
       "      <th>50%</th>\n",
       "      <td>121.000000</td>\n",
       "      <td>2013.000000</td>\n",
       "      <td>8.100000</td>\n",
       "      <td>5.000000</td>\n",
       "    </tr>\n",
       "    <tr>\n",
       "      <th>75%</th>\n",
       "      <td>130.500000</td>\n",
       "      <td>2018.000000</td>\n",
       "      <td>8.400000</td>\n",
       "      <td>5.000000</td>\n",
       "    </tr>\n",
       "    <tr>\n",
       "      <th>max</th>\n",
       "      <td>140.000000</td>\n",
       "      <td>2022.000000</td>\n",
       "      <td>9.300000</td>\n",
       "      <td>7.000000</td>\n",
       "    </tr>\n",
       "  </tbody>\n",
       "</table>\n",
       "</div>"
      ],
      "text/plain": [
       "         movie_id  release_year  imdb_rating  language_id\n",
       "count   39.000000     39.000000    38.000000    39.000000\n",
       "mean   120.666667   2006.282051     7.947368     3.435897\n",
       "std     11.795033     17.945750     1.180869     1.970772\n",
       "min    101.000000   1946.000000     1.900000     1.000000\n",
       "25%    110.500000   2000.500000     7.825000     1.000000\n",
       "50%    121.000000   2013.000000     8.100000     5.000000\n",
       "75%    130.500000   2018.000000     8.400000     5.000000\n",
       "max    140.000000   2022.000000     9.300000     7.000000"
      ]
     },
     "execution_count": 35,
     "metadata": {},
     "output_type": "execute_result"
    }
   ],
   "source": [
    "Movies.describe()"
   ]
  },
  {
   "cell_type": "code",
   "execution_count": 50,
   "id": "df4f2f3d",
   "metadata": {},
   "outputs": [
    {
     "data": {
      "text/plain": [
       "movie_id                     101\n",
       "title           K.G.F: Chapter 2\n",
       "industry               Bollywood\n",
       "release_year                2022\n",
       "imdb_rating                  8.4\n",
       "studio             Hombale Films\n",
       "language_id                    3\n",
       "budget                         1\n",
       "revenue                     12.5\n",
       "unit                    Billions\n",
       "currency                     INR\n",
       "Name: 0, dtype: object"
      ]
     },
     "execution_count": 50,
     "metadata": {},
     "output_type": "execute_result"
    }
   ],
   "source": [
    "Movies.loc[0]"
   ]
  },
  {
   "cell_type": "code",
   "execution_count": 98,
   "id": "828ffdb3",
   "metadata": {},
   "outputs": [
    {
     "data": {
      "text/html": [
       "<div>\n",
       "<style scoped>\n",
       "    .dataframe tbody tr th:only-of-type {\n",
       "        vertical-align: middle;\n",
       "    }\n",
       "\n",
       "    .dataframe tbody tr th {\n",
       "        vertical-align: top;\n",
       "    }\n",
       "\n",
       "    .dataframe thead th {\n",
       "        text-align: right;\n",
       "    }\n",
       "</style>\n",
       "<table border=\"1\" class=\"dataframe\">\n",
       "  <thead>\n",
       "    <tr style=\"text-align: right;\">\n",
       "      <th></th>\n",
       "      <th>movie_id</th>\n",
       "      <th>title</th>\n",
       "      <th>industry</th>\n",
       "      <th>release_year</th>\n",
       "      <th>imdb_rating</th>\n",
       "      <th>studio</th>\n",
       "      <th>language_id</th>\n",
       "      <th>budget</th>\n",
       "      <th>revenue</th>\n",
       "      <th>unit</th>\n",
       "      <th>currency</th>\n",
       "    </tr>\n",
       "  </thead>\n",
       "  <tbody>\n",
       "    <tr>\n",
       "      <th>0</th>\n",
       "      <td>101</td>\n",
       "      <td>K.G.F: Chapter 2</td>\n",
       "      <td>Bollywood</td>\n",
       "      <td>2022</td>\n",
       "      <td>8.4</td>\n",
       "      <td>Hombale Films</td>\n",
       "      <td>3</td>\n",
       "      <td>1</td>\n",
       "      <td>12.5</td>\n",
       "      <td>Billions</td>\n",
       "      <td>INR</td>\n",
       "    </tr>\n",
       "    <tr>\n",
       "      <th>1</th>\n",
       "      <td>102</td>\n",
       "      <td>Doctor Strange in the Multiverse of Madness</td>\n",
       "      <td>Hollywood</td>\n",
       "      <td>2022</td>\n",
       "      <td>7.0</td>\n",
       "      <td>Marvel Studios</td>\n",
       "      <td>5</td>\n",
       "      <td>200</td>\n",
       "      <td>954.8</td>\n",
       "      <td>Millions</td>\n",
       "      <td>USD</td>\n",
       "    </tr>\n",
       "  </tbody>\n",
       "</table>\n",
       "</div>"
      ],
      "text/plain": [
       "   movie_id                                        title   industry   \n",
       "0       101                             K.G.F: Chapter 2  Bollywood  \\\n",
       "1       102  Doctor Strange in the Multiverse of Madness  Hollywood   \n",
       "\n",
       "   release_year  imdb_rating          studio  language_id budget revenue   \n",
       "0          2022          8.4   Hombale Films            3      1    12.5  \\\n",
       "1          2022          7.0  Marvel Studios            5    200   954.8   \n",
       "\n",
       "       unit currency  \n",
       "0  Billions      INR  \n",
       "1  Millions      USD  "
      ]
     },
     "execution_count": 98,
     "metadata": {},
     "output_type": "execute_result"
    }
   ],
   "source": [
    "Movies.head(2)"
   ]
  },
  {
   "cell_type": "code",
   "execution_count": 99,
   "id": "368a07fc",
   "metadata": {},
   "outputs": [],
   "source": [
    "Movies.set_index('movie_id', inplace=True) ##its used to set a index."
   ]
  },
  {
   "cell_type": "code",
   "execution_count": 100,
   "id": "8c4743f8",
   "metadata": {},
   "outputs": [
    {
     "data": {
      "text/html": [
       "<div>\n",
       "<style scoped>\n",
       "    .dataframe tbody tr th:only-of-type {\n",
       "        vertical-align: middle;\n",
       "    }\n",
       "\n",
       "    .dataframe tbody tr th {\n",
       "        vertical-align: top;\n",
       "    }\n",
       "\n",
       "    .dataframe thead th {\n",
       "        text-align: right;\n",
       "    }\n",
       "</style>\n",
       "<table border=\"1\" class=\"dataframe\">\n",
       "  <thead>\n",
       "    <tr style=\"text-align: right;\">\n",
       "      <th></th>\n",
       "      <th>title</th>\n",
       "      <th>industry</th>\n",
       "      <th>release_year</th>\n",
       "      <th>imdb_rating</th>\n",
       "      <th>studio</th>\n",
       "      <th>language_id</th>\n",
       "      <th>budget</th>\n",
       "      <th>revenue</th>\n",
       "      <th>unit</th>\n",
       "      <th>currency</th>\n",
       "    </tr>\n",
       "    <tr>\n",
       "      <th>movie_id</th>\n",
       "      <th></th>\n",
       "      <th></th>\n",
       "      <th></th>\n",
       "      <th></th>\n",
       "      <th></th>\n",
       "      <th></th>\n",
       "      <th></th>\n",
       "      <th></th>\n",
       "      <th></th>\n",
       "      <th></th>\n",
       "    </tr>\n",
       "  </thead>\n",
       "  <tbody>\n",
       "    <tr>\n",
       "      <th>101</th>\n",
       "      <td>K.G.F: Chapter 2</td>\n",
       "      <td>Bollywood</td>\n",
       "      <td>2022</td>\n",
       "      <td>8.4</td>\n",
       "      <td>Hombale Films</td>\n",
       "      <td>3</td>\n",
       "      <td>1</td>\n",
       "      <td>12.5</td>\n",
       "      <td>Billions</td>\n",
       "      <td>INR</td>\n",
       "    </tr>\n",
       "    <tr>\n",
       "      <th>102</th>\n",
       "      <td>Doctor Strange in the Multiverse of Madness</td>\n",
       "      <td>Hollywood</td>\n",
       "      <td>2022</td>\n",
       "      <td>7.0</td>\n",
       "      <td>Marvel Studios</td>\n",
       "      <td>5</td>\n",
       "      <td>200</td>\n",
       "      <td>954.8</td>\n",
       "      <td>Millions</td>\n",
       "      <td>USD</td>\n",
       "    </tr>\n",
       "  </tbody>\n",
       "</table>\n",
       "</div>"
      ],
      "text/plain": [
       "                                                title   industry   \n",
       "movie_id                                                           \n",
       "101                                  K.G.F: Chapter 2  Bollywood  \\\n",
       "102       Doctor Strange in the Multiverse of Madness  Hollywood   \n",
       "\n",
       "          release_year  imdb_rating          studio  language_id budget   \n",
       "movie_id                                                                  \n",
       "101               2022          8.4   Hombale Films            3      1  \\\n",
       "102               2022          7.0  Marvel Studios            5    200   \n",
       "\n",
       "         revenue      unit currency  \n",
       "movie_id                             \n",
       "101         12.5  Billions      INR  \n",
       "102        954.8  Millions      USD  "
      ]
     },
     "execution_count": 100,
     "metadata": {},
     "output_type": "execute_result"
    }
   ],
   "source": [
    "Movies.head(2)"
   ]
  },
  {
   "cell_type": "code",
   "execution_count": 90,
   "id": "c8292887",
   "metadata": {},
   "outputs": [
    {
     "data": {
      "text/plain": [
       "title           K.G.F: Chapter 2\n",
       "industry               Bollywood\n",
       "release_year                2022\n",
       "imdb_rating                  8.4\n",
       "studio             Hombale Films\n",
       "language_id                    3\n",
       "budget                         1\n",
       "revenue                     12.5\n",
       "unit                    Billions\n",
       "currency                     INR\n",
       "Name: 101, dtype: object"
      ]
     },
     "execution_count": 90,
     "metadata": {},
     "output_type": "execute_result"
    }
   ],
   "source": [
    "Movies.loc[101]"
   ]
  },
  {
   "cell_type": "code",
   "execution_count": 102,
   "id": "26a23f5c",
   "metadata": {},
   "outputs": [],
   "source": [
    "Movies.set_index('imdb_rating', inplace=True) ##its used to set a index."
   ]
  },
  {
   "cell_type": "code",
   "execution_count": 103,
   "id": "5a6da33e",
   "metadata": {},
   "outputs": [
    {
     "data": {
      "text/html": [
       "<div>\n",
       "<style scoped>\n",
       "    .dataframe tbody tr th:only-of-type {\n",
       "        vertical-align: middle;\n",
       "    }\n",
       "\n",
       "    .dataframe tbody tr th {\n",
       "        vertical-align: top;\n",
       "    }\n",
       "\n",
       "    .dataframe thead th {\n",
       "        text-align: right;\n",
       "    }\n",
       "</style>\n",
       "<table border=\"1\" class=\"dataframe\">\n",
       "  <thead>\n",
       "    <tr style=\"text-align: right;\">\n",
       "      <th></th>\n",
       "      <th>movie_id</th>\n",
       "      <th>title</th>\n",
       "      <th>industry</th>\n",
       "      <th>release_year</th>\n",
       "      <th>studio</th>\n",
       "      <th>language_id</th>\n",
       "      <th>budget</th>\n",
       "      <th>revenue</th>\n",
       "      <th>unit</th>\n",
       "      <th>currency</th>\n",
       "    </tr>\n",
       "    <tr>\n",
       "      <th>imdb_rating</th>\n",
       "      <th></th>\n",
       "      <th></th>\n",
       "      <th></th>\n",
       "      <th></th>\n",
       "      <th></th>\n",
       "      <th></th>\n",
       "      <th></th>\n",
       "      <th></th>\n",
       "      <th></th>\n",
       "      <th></th>\n",
       "    </tr>\n",
       "  </thead>\n",
       "  <tbody>\n",
       "    <tr>\n",
       "      <th>8.4</th>\n",
       "      <td>101</td>\n",
       "      <td>K.G.F: Chapter 2</td>\n",
       "      <td>Bollywood</td>\n",
       "      <td>2022</td>\n",
       "      <td>Hombale Films</td>\n",
       "      <td>3</td>\n",
       "      <td>1</td>\n",
       "      <td>12.5</td>\n",
       "      <td>Billions</td>\n",
       "      <td>INR</td>\n",
       "    </tr>\n",
       "    <tr>\n",
       "      <th>7.0</th>\n",
       "      <td>102</td>\n",
       "      <td>Doctor Strange in the Multiverse of Madness</td>\n",
       "      <td>Hollywood</td>\n",
       "      <td>2022</td>\n",
       "      <td>Marvel Studios</td>\n",
       "      <td>5</td>\n",
       "      <td>200</td>\n",
       "      <td>954.8</td>\n",
       "      <td>Millions</td>\n",
       "      <td>USD</td>\n",
       "    </tr>\n",
       "  </tbody>\n",
       "</table>\n",
       "</div>"
      ],
      "text/plain": [
       "             movie_id                                        title   industry   \n",
       "imdb_rating                                                                     \n",
       "8.4               101                             K.G.F: Chapter 2  Bollywood  \\\n",
       "7.0               102  Doctor Strange in the Multiverse of Madness  Hollywood   \n",
       "\n",
       "             release_year          studio  language_id budget revenue   \n",
       "imdb_rating                                                             \n",
       "8.4                  2022   Hombale Films            3      1    12.5  \\\n",
       "7.0                  2022  Marvel Studios            5    200   954.8   \n",
       "\n",
       "                 unit currency  \n",
       "imdb_rating                     \n",
       "8.4          Billions      INR  \n",
       "7.0          Millions      USD  "
      ]
     },
     "execution_count": 103,
     "metadata": {},
     "output_type": "execute_result"
    }
   ],
   "source": [
    "Movies.head(2)"
   ]
  },
  {
   "cell_type": "code",
   "execution_count": 110,
   "id": "53b199eb",
   "metadata": {},
   "outputs": [
    {
     "data": {
      "text/html": [
       "<div>\n",
       "<style scoped>\n",
       "    .dataframe tbody tr th:only-of-type {\n",
       "        vertical-align: middle;\n",
       "    }\n",
       "\n",
       "    .dataframe tbody tr th {\n",
       "        vertical-align: top;\n",
       "    }\n",
       "\n",
       "    .dataframe thead th {\n",
       "        text-align: right;\n",
       "    }\n",
       "</style>\n",
       "<table border=\"1\" class=\"dataframe\">\n",
       "  <thead>\n",
       "    <tr style=\"text-align: right;\">\n",
       "      <th></th>\n",
       "      <th>movie_id</th>\n",
       "      <th>title</th>\n",
       "      <th>industry</th>\n",
       "      <th>release_year</th>\n",
       "      <th>studio</th>\n",
       "      <th>language_id</th>\n",
       "      <th>budget</th>\n",
       "      <th>revenue</th>\n",
       "      <th>unit</th>\n",
       "      <th>currency</th>\n",
       "    </tr>\n",
       "    <tr>\n",
       "      <th>imdb_rating</th>\n",
       "      <th></th>\n",
       "      <th></th>\n",
       "      <th></th>\n",
       "      <th></th>\n",
       "      <th></th>\n",
       "      <th></th>\n",
       "      <th></th>\n",
       "      <th></th>\n",
       "      <th></th>\n",
       "      <th></th>\n",
       "    </tr>\n",
       "  </thead>\n",
       "  <tbody>\n",
       "    <tr>\n",
       "      <th>9.0</th>\n",
       "      <td>121</td>\n",
       "      <td>The Dark Knight</td>\n",
       "      <td>Hollywood</td>\n",
       "      <td>2008</td>\n",
       "      <td>Syncopy</td>\n",
       "      <td>5</td>\n",
       "      <td>185</td>\n",
       "      <td>1006</td>\n",
       "      <td>Millions</td>\n",
       "      <td>USD</td>\n",
       "    </tr>\n",
       "    <tr>\n",
       "      <th>9.0</th>\n",
       "      <td>122</td>\n",
       "      <td>Schindler's List</td>\n",
       "      <td>Hollywood</td>\n",
       "      <td>1993</td>\n",
       "      <td>Universal Pictures</td>\n",
       "      <td>5</td>\n",
       "      <td>22</td>\n",
       "      <td>322.2</td>\n",
       "      <td>Millions</td>\n",
       "      <td>USD</td>\n",
       "    </tr>\n",
       "  </tbody>\n",
       "</table>\n",
       "</div>"
      ],
      "text/plain": [
       "             movie_id             title   industry  release_year   \n",
       "imdb_rating                                                        \n",
       "9.0               121   The Dark Knight  Hollywood          2008  \\\n",
       "9.0               122  Schindler's List  Hollywood          1993   \n",
       "\n",
       "                         studio  language_id budget revenue      unit currency  \n",
       "imdb_rating                                                                     \n",
       "9.0                     Syncopy            5    185    1006  Millions      USD  \n",
       "9.0          Universal Pictures            5     22   322.2  Millions      USD  "
      ]
     },
     "execution_count": 110,
     "metadata": {},
     "output_type": "execute_result"
    }
   ],
   "source": [
    "Movies.loc[9.0]"
   ]
  },
  {
   "cell_type": "code",
   "execution_count": 101,
   "id": "8883acaa",
   "metadata": {},
   "outputs": [],
   "source": [
    "Movies.reset_index(inplace=True) ##its used to reset index."
   ]
  },
  {
   "cell_type": "code",
   "execution_count": 92,
   "id": "46a29902",
   "metadata": {},
   "outputs": [
    {
     "data": {
      "text/plain": [
       "9.3"
      ]
     },
     "execution_count": 92,
     "metadata": {},
     "output_type": "execute_result"
    }
   ],
   "source": [
    "Movies.imdb_rating.max()"
   ]
  },
  {
   "cell_type": "code",
   "execution_count": 10,
   "id": "1148b536",
   "metadata": {},
   "outputs": [
    {
     "data": {
      "text/plain": [
       "0                K.G.F: Chapter 2\n",
       "6     Dilwale Dulhania Le Jayenge\n",
       "7                        3 Idiots\n",
       "8        Kabhi Khushi Kabhie Gham\n",
       "9                 Bajirao Mastani\n",
       "25                Pather Panchali\n",
       "26               Taare Zameen Par\n",
       "27            Munna Bhai M.B.B.S.\n",
       "28                             PK\n",
       "29                          Sanju\n",
       "30      Pushpa: The Rise - Part 1\n",
       "31                            RRR\n",
       "32       Baahubali: The Beginning\n",
       "33              The Kashmir Files\n",
       "34              Bajrangi Bhaijaan\n",
       "37                         Race 3\n",
       "38                      Shershaah\n",
       "Name: title, dtype: object"
      ]
     },
     "execution_count": 10,
     "metadata": {},
     "output_type": "execute_result"
    }
   ],
   "source": [
    "INR=Movies['title'][Movies['currency']=='INR']\n",
    "INR"
   ]
  },
  {
   "cell_type": "code",
   "execution_count": 11,
   "id": "80c803f3",
   "metadata": {},
   "outputs": [
    {
     "data": {
      "text/plain": [
       "0       1\n",
       "6     400\n",
       "7     550\n",
       "8     390\n",
       "9     1.4\n",
       "25     70\n",
       "26    120\n",
       "27    100\n",
       "28    850\n",
       "29      1\n",
       "30      2\n",
       "31    5.5\n",
       "32    1.8\n",
       "33    250\n",
       "34    900\n",
       "37    1.8\n",
       "38    500\n",
       "Name: budget, dtype: object"
      ]
     },
     "execution_count": 11,
     "metadata": {},
     "output_type": "execute_result"
    }
   ],
   "source": [
    "INR_budget=Movies['budget'][Movies['currency']=='INR']\n",
    "INR_budget"
   ]
  },
  {
   "cell_type": "code",
   "execution_count": 12,
   "id": "162ac12f",
   "metadata": {},
   "outputs": [
    {
     "data": {
      "text/plain": [
       "0      12.5\n",
       "6      2000\n",
       "7      4000\n",
       "8      1360\n",
       "9       3.5\n",
       "25      100\n",
       "26     1350\n",
       "27      410\n",
       "28     8540\n",
       "29      5.9\n",
       "30      3.6\n",
       "31       12\n",
       "32      6.5\n",
       "33     3409\n",
       "34    11690\n",
       "37      3.1\n",
       "38      950\n",
       "Name: revenue, dtype: object"
      ]
     },
     "execution_count": 12,
     "metadata": {},
     "output_type": "execute_result"
    }
   ],
   "source": [
    "INR_revenue=Movies['revenue'][Movies['currency']=='INR']\n",
    "INR_revenue"
   ]
  },
  {
   "cell_type": "code",
   "execution_count": 29,
   "id": "23527f24",
   "metadata": {},
   "outputs": [
    {
     "data": {
      "text/plain": [
       "0         3.1\n",
       "1         3.3\n",
       "2         3.5\n",
       "3         3.6\n",
       "4         5.9\n",
       "5         6.5\n",
       "6        12.0\n",
       "7        12.5\n",
       "8        73.3\n",
       "9       100.0\n",
       "10      263.1\n",
       "11      291.0\n",
       "12      307.1\n",
       "13      322.2\n",
       "14      370.6\n",
       "15      410.0\n",
       "16      460.5\n",
       "17      644.8\n",
       "18      670.0\n",
       "19      701.8\n",
       "20      714.4\n",
       "21      854.0\n",
       "22      950.0\n",
       "23      954.8\n",
       "24     1006.0\n",
       "25     1046.0\n",
       "26     1350.0\n",
       "27     1360.0\n",
       "28     2000.0\n",
       "29     2048.0\n",
       "30     2202.0\n",
       "31     2798.0\n",
       "32     2847.0\n",
       "33     3409.0\n",
       "34     4000.0\n",
       "35     8540.0\n",
       "36    11690.0\n",
       "Name: revenue, dtype: float64"
      ]
     },
     "execution_count": 29,
     "metadata": {},
     "output_type": "execute_result"
    }
   ],
   "source": [
    "Movies['revenue'] = pd.to_numeric(Movies['revenue'], errors='coerce')\n",
    "Movies['revenue'].mode()"
   ]
  },
  {
   "cell_type": "code",
   "execution_count": 48,
   "id": "59192dfd",
   "metadata": {},
   "outputs": [],
   "source": [
    "# # Assuming you have a DataFrame named Amin1\n",
    "# Amin1.to_excel(\"C:\\\\Users\\\\HP\\\\Pandas Practice\\\\Moives DB\", index=False)"
   ]
  },
  {
   "cell_type": "code",
   "execution_count": null,
   "id": "2631e845",
   "metadata": {},
   "outputs": [],
   "source": []
  }
 ],
 "metadata": {
  "kernelspec": {
   "display_name": "Python 3 (ipykernel)",
   "language": "python",
   "name": "python3"
  },
  "language_info": {
   "codemirror_mode": {
    "name": "ipython",
    "version": 3
   },
   "file_extension": ".py",
   "mimetype": "text/x-python",
   "name": "python",
   "nbconvert_exporter": "python",
   "pygments_lexer": "ipython3",
   "version": "3.11.2"
  }
 },
 "nbformat": 4,
 "nbformat_minor": 5
}
